{
  "cells": [
    {
      "cell_type": "code",
      "execution_count": null,
      "metadata": {
        "colab": {
          "base_uri": "https://localhost:8080/"
        },
        "id": "QQ-dr1-NTN9z",
        "outputId": "5c5563d1-66f4-4b27-bbcc-75aa79f32a22"
      },
      "outputs": [
        {
          "name": "stdout",
          "output_type": "stream",
          "text": [
            "cuda\n"
          ]
        }
      ],
      "source": [
        "import torch\n",
        "import torchvision\n",
        "import torchvision.datasets as datasets\n",
        "import torchvision.transforms as transforms\n",
        "from torch import nn\n",
        "import torch.nn.functional as F\n",
        "import numpy as np\n",
        "import pandas as pd\n",
        "import seaborn as sns\n",
        "from torch.utils.data import DataLoader\n",
        "from torch.utils.tensorboard import SummaryWriter\n",
        "from torch import optim\n",
        "# from model import Discriminator, Generator, initialize_weights\n",
        "device = torch.device('cuda' if torch.cuda.is_available() else 'cpu')\n",
        "print(device)"
      ]
    },
    {
      "cell_type": "code",
      "execution_count": null,
      "metadata": {
        "id": "OYijNukGUB3f"
      },
      "outputs": [],
      "source": [
        "class Discriminator(nn.Module):\n",
        "  def __init__(self, channels_img, features_d):\n",
        "    super(Discriminator,self).__init__()\n",
        "    self.channels_img = channels_img\n",
        "    self.features_d = features_d\n",
        "    self.disc = nn.Sequential(\n",
        "        nn.Conv2d(self.channels_img,self.features_d, 4, 2, 1),\n",
        "        nn.LeakyReLU(0.2),\n",
        "        self._block(self.features_d, self.features_d*2, 4, 2, 1),\n",
        "        self._block(self.features_d*2,self.features_d*4, 4, 2, 1),\n",
        "        self._block(self.features_d*4,self.features_d*8, 4, 2, 1),\n",
        "        nn.Conv2d(self.features_d*8, 1, kernel_size = 4, stride= 2, padding= 0),\n",
        "        nn.Sigmoid()\n",
        "    )\n",
        "  \n",
        "  def _block(self,in_channels,out_channels,kernel_size,stride,padding):\n",
        "    return nn.Sequential(\n",
        "        nn.Conv2d(in_channels ,out_channels, kernel_size,stride,padding, bias=False),\n",
        "        nn.BatchNorm2d(out_channels),\n",
        "        nn.LeakyReLU(0.2),\n",
        "    )\n",
        "\n",
        "  def forward(self,x):\n",
        "    return self.disc(x)\n",
        "\n",
        "\n",
        "class Generator(nn.Module):\n",
        "  def __init__(self,z_dim, channels_img, feature_g):\n",
        "    super(Generator,self).__init__()\n",
        "    self.gen = nn.Sequential(\n",
        "        self._block(z_dim, feature_g*16, 4, 1, 0),\n",
        "        self._block(feature_g*16, feature_g*8, 4, 2, 1),\n",
        "        self._block(feature_g*8, feature_g*4, 4, 2, 1),\n",
        "        self._block(feature_g*4, feature_g*2, 4, 2, 1),\n",
        "        nn.ConvTranspose2d(\n",
        "            feature_g * 2, channels_img, kernel_size=4, stride=2, padding=1\n",
        "        ),\n",
        "        # Output: N x channels_img x 64 x 64\n",
        "        nn.Tanh(),\n",
        "    )\n",
        "  def _block(self,in_channels,out_channel,kernel_size,stride,padding):\n",
        "    return nn.Sequential(\n",
        "        nn.ConvTranspose2d(in_channels=in_channels,out_channels=out_channel,kernel_size = kernel_size,stride=stride,padding=padding,bias=False),\n",
        "        nn.ReLU(0.2),\n",
        "    )\n",
        "\n",
        "  def forward(self,x):\n",
        "    return self.gen(x)\n",
        "\n",
        "def inititalize_weights(model):\n",
        "  for m in model.modules():\n",
        "    if isinstance (m, (nn.Conv2d,nn.ConvTranspose2d,nn.BatchNorm2d)):\n",
        "      nn.init.normal_(m.weight.data, 0.0, 0.02)\n",
        "\n",
        "def test():\n",
        "    N, in_channels, H, W = 8, 3, 64, 64\n",
        "    noise_dim = 100\n",
        "    x = torch.randn((N, in_channels, H, W))\n",
        "    disc = Discriminator(in_channels, 8)\n",
        "    # print(disc(x).shape)\n",
        "    assert disc(x).shape == (N, 1, 1, 1), \"Discriminator test failed\"\n",
        "    gen = Generator(noise_dim, in_channels, 8)\n",
        "    z = torch.randn((N, noise_dim, 1, 1))\n",
        "    # print(gen(z).shape)\n",
        "    assert gen(z).shape == (N, in_channels, H, W), \"Generator test failed\"\n",
        "test()"
      ]
    },
    {
      "cell_type": "code",
      "execution_count": null,
      "metadata": {
        "colab": {
          "base_uri": "https://localhost:8080/"
        },
        "id": "FVIDP6zVWYSx",
        "outputId": "7e8ab02d-0416-4b5a-e1e2-1f9630633b7d"
      },
      "outputs": [
        {
          "data": {
            "text/plain": [
              "Discriminator(\n",
              "  (disc): Sequential(\n",
              "    (0): Conv2d(1, 64, kernel_size=(4, 4), stride=(2, 2), padding=(1, 1))\n",
              "    (1): LeakyReLU(negative_slope=0.2)\n",
              "    (2): Sequential(\n",
              "      (0): Conv2d(64, 128, kernel_size=(4, 4), stride=(2, 2), padding=(1, 1), bias=False)\n",
              "      (1): BatchNorm2d(128, eps=1e-05, momentum=0.1, affine=True, track_running_stats=True)\n",
              "      (2): LeakyReLU(negative_slope=0.2)\n",
              "    )\n",
              "    (3): Sequential(\n",
              "      (0): Conv2d(128, 256, kernel_size=(4, 4), stride=(2, 2), padding=(1, 1), bias=False)\n",
              "      (1): BatchNorm2d(256, eps=1e-05, momentum=0.1, affine=True, track_running_stats=True)\n",
              "      (2): LeakyReLU(negative_slope=0.2)\n",
              "    )\n",
              "    (4): Sequential(\n",
              "      (0): Conv2d(256, 512, kernel_size=(4, 4), stride=(2, 2), padding=(1, 1), bias=False)\n",
              "      (1): BatchNorm2d(512, eps=1e-05, momentum=0.1, affine=True, track_running_stats=True)\n",
              "      (2): LeakyReLU(negative_slope=0.2)\n",
              "    )\n",
              "    (5): Conv2d(512, 1, kernel_size=(4, 4), stride=(2, 2))\n",
              "    (6): Sigmoid()\n",
              "  )\n",
              ")"
            ]
          },
          "execution_count": 9,
          "metadata": {},
          "output_type": "execute_result"
        }
      ],
      "source": [
        "learning_rate=2e-4\n",
        "batch_size= 128\n",
        "z_dim = 100\n",
        "channels_img = 1\n",
        "image_size = 64\n",
        "features_disc = 64\n",
        "features_gen = 64\n",
        "num_epochs =3\n",
        "\n",
        "transform = transforms.Compose(\n",
        "    [\n",
        "        transforms.Resize(image_size),\n",
        "        transforms.ToTensor(),\n",
        "        transforms.Normalize(\n",
        "            [0.5 for _ in range(channels_img)], [0.5 for _ in range(channels_img)]\n",
        "        ),\n",
        "    ]\n",
        ")\n",
        "\n",
        "dataset = datasets.MNIST(root = 'content/data',download=True,train=True,transform=transform)\n",
        "dataloader = DataLoader(dataset,batch_size=batch_size,shuffle=True)\n",
        "gen = Generator(z_dim,channels_img,features_gen).to(device)\n",
        "disc = Discriminator(channels_img,features_disc).to(device)\n",
        "inititalize_weights(gen)\n",
        "inititalize_weights(disc)\n",
        "\n",
        "opt_gen = optim.Adam(gen.parameters(),lr=learning_rate)\n",
        "opt_disc = optim.Adam(disc.parameters(),lr=learning_rate)\n",
        "criterion = nn.BCELoss()\n",
        "\n",
        "fixed_noise = torch.randn(32,z_dim,1,1).to(device)\n",
        "writer_real = SummaryWriter(log_dir=f'logs/real')\n",
        "writer_fake = SummaryWriter(log_dir=f'logs/fake')\n",
        "step = 0\n",
        "\n",
        "gen.train()\n",
        "disc.train()\n",
        "\n"
      ]
    },
    {
      "cell_type": "code",
      "execution_count": null,
      "metadata": {
        "colab": {
          "base_uri": "https://localhost:8080/"
        },
        "id": "qGU8Q68wMjyz",
        "outputId": "56f8bdaa-e4ca-4978-ea0e-8fd5c6c623d7"
      },
      "outputs": [
        {
          "name": "stdout",
          "output_type": "stream",
          "text": [
            "Epoch [0/3] Batch 0/469               Loss D: 0.6037, loss G: 0.9041\n",
            "Epoch [0/3] Batch 100/469               Loss D: 0.0125, loss G: 4.2731\n",
            "Epoch [0/3] Batch 200/469               Loss D: 0.0035, loss G: 5.5840\n",
            "Epoch [0/3] Batch 300/469               Loss D: 0.0014, loss G: 6.4656\n",
            "Epoch [0/3] Batch 400/469               Loss D: 0.0008, loss G: 6.9651\n",
            "Epoch [1/3] Batch 0/469               Loss D: 0.1912, loss G: 4.2732\n",
            "Epoch [1/3] Batch 100/469               Loss D: 0.0600, loss G: 4.9816\n",
            "Epoch [1/3] Batch 200/469               Loss D: 0.0020, loss G: 7.6787\n",
            "Epoch [1/3] Batch 300/469               Loss D: 0.0009, loss G: 7.8094\n",
            "Epoch [1/3] Batch 400/469               Loss D: 0.1591, loss G: 4.1054\n",
            "Epoch [2/3] Batch 0/469               Loss D: 0.0062, loss G: 6.9955\n",
            "Epoch [2/3] Batch 100/469               Loss D: 0.0021, loss G: 7.6106\n",
            "Epoch [2/3] Batch 200/469               Loss D: 0.0041, loss G: 6.8876\n",
            "Epoch [2/3] Batch 300/469               Loss D: 0.0010, loss G: 7.9957\n",
            "Epoch [2/3] Batch 400/469               Loss D: 0.0003, loss G: 8.5271\n"
          ]
        }
      ],
      "source": [
        "for epoch in range(num_epochs):\n",
        "  for batch_idx,(real,_) in enumerate(dataloader):\n",
        "    real = real.to(device)\n",
        "    noise = torch.randn(batch_size,z_dim,1,1).to(device)\n",
        "    fake = gen(noise)\n",
        "\n",
        "    ## Max log D(x) + log(1-D(G(x)))\n",
        "    disc_real = disc(real).reshape(-1)\n",
        "    loss_disc_real = criterion(disc_real,torch.ones_like(disc_real))\n",
        "    disc_fake = disc(fake.detach()).reshape(-1)\n",
        "    loss_disc_fake = criterion(disc_fake,torch.zeros_like(disc_fake))\n",
        "    loss_disc = (loss_disc_real+loss_disc_fake)/2\n",
        "    \n",
        "    disc.zero_grad()\n",
        "    loss_disc.backward()\n",
        "    opt_disc.step()\n",
        "\n",
        "\n",
        "    #### Max(D(G(z)))\n",
        "    output = disc(fake).reshape(-1)\n",
        "    loss_gen = criterion(output,torch.ones_like(output))\n",
        "    gen.zero_grad()\n",
        "    loss_gen.backward()\n",
        "    opt_gen.step()\n",
        "\n",
        "\n",
        "    # Print losses occasionally and print to tensorboard\n",
        "    if batch_idx % 100 == 0:\n",
        "        print(\n",
        "            f\"Epoch [{epoch}/{num_epochs}] Batch {batch_idx}/{len(dataloader)} \\\n",
        "              Loss D: {loss_disc:.4f}, loss G: {loss_gen:.4f}\"\n",
        "        )\n",
        "\n",
        "        with torch.no_grad():\n",
        "            fake = gen(fixed_noise)\n",
        "            # take out (up to) 32 examples\n",
        "            img_grid_real = torchvision.utils.make_grid(\n",
        "                real[:32], normalize=True\n",
        "            )\n",
        "            img_grid_fake = torchvision.utils.make_grid(\n",
        "                fake[:32], normalize=True\n",
        "            )\n",
        "\n",
        "            writer_real.add_image(\"Real\", img_grid_real, global_step=step)\n",
        "            writer_fake.add_image(\"Fake\", img_grid_fake, global_step=step)\n",
        "\n",
        "            step += 1 "
      ]
    },
    {
      "cell_type": "code",
      "execution_count": null,
      "metadata": {
        "id": "YTLvRURgGTre"
      },
      "outputs": [],
      "source": []
    },
    {
      "cell_type": "code",
      "execution_count": null,
      "metadata": {
        "id": "8MoYc4qZGTon"
      },
      "outputs": [],
      "source": []
    }
  ],
  "metadata": {
    "accelerator": "GPU",
    "colab": {
      "name": "DCGAN.ipynb",
      "provenance": []
    },
    "kernelspec": {
      "display_name": "Python 3",
      "name": "python3"
    },
    "language_info": {
      "name": "python"
    }
  },
  "nbformat": 4,
  "nbformat_minor": 0
}
