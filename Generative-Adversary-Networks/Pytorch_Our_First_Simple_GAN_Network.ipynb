{
  "nbformat": 4,
  "nbformat_minor": 0,
  "metadata": {
    "colab": {
      "name": "Pytorch Our First Simple GAN Network.ipynb",
      "provenance": []
    },
    "kernelspec": {
      "name": "python3",
      "display_name": "Python 3"
    },
    "language_info": {
      "name": "python"
    },
    "accelerator": "GPU",
    "widgets": {
      "application/vnd.jupyter.widget-state+json": {
        "59b3583bcaff4417b5bb2b519b21f581": {
          "model_module": "@jupyter-widgets/controls",
          "model_name": "HBoxModel",
          "model_module_version": "1.5.0",
          "state": {
            "_view_name": "HBoxView",
            "_dom_classes": [],
            "_model_name": "HBoxModel",
            "_view_module": "@jupyter-widgets/controls",
            "_model_module_version": "1.5.0",
            "_view_count": null,
            "_view_module_version": "1.5.0",
            "box_style": "",
            "layout": "IPY_MODEL_64bb222eae754d6cac27297b5316e950",
            "_model_module": "@jupyter-widgets/controls",
            "children": [
              "IPY_MODEL_a257312970584e619fc1d03aa06289f2",
              "IPY_MODEL_89db4d8d12fc4ec983e15f177d657f2b",
              "IPY_MODEL_420c33fae21c4b8692ef28ee66b57109"
            ]
          }
        },
        "64bb222eae754d6cac27297b5316e950": {
          "model_module": "@jupyter-widgets/base",
          "model_name": "LayoutModel",
          "model_module_version": "1.2.0",
          "state": {
            "_view_name": "LayoutView",
            "grid_template_rows": null,
            "right": null,
            "justify_content": null,
            "_view_module": "@jupyter-widgets/base",
            "overflow": null,
            "_model_module_version": "1.2.0",
            "_view_count": null,
            "flex_flow": null,
            "width": null,
            "min_width": null,
            "border": null,
            "align_items": null,
            "bottom": null,
            "_model_module": "@jupyter-widgets/base",
            "top": null,
            "grid_column": null,
            "overflow_y": null,
            "overflow_x": null,
            "grid_auto_flow": null,
            "grid_area": null,
            "grid_template_columns": null,
            "flex": null,
            "_model_name": "LayoutModel",
            "justify_items": null,
            "grid_row": null,
            "max_height": null,
            "align_content": null,
            "visibility": null,
            "align_self": null,
            "height": null,
            "min_height": null,
            "padding": null,
            "grid_auto_rows": null,
            "grid_gap": null,
            "max_width": null,
            "order": null,
            "_view_module_version": "1.2.0",
            "grid_template_areas": null,
            "object_position": null,
            "object_fit": null,
            "grid_auto_columns": null,
            "margin": null,
            "display": null,
            "left": null
          }
        },
        "a257312970584e619fc1d03aa06289f2": {
          "model_module": "@jupyter-widgets/controls",
          "model_name": "HTMLModel",
          "model_module_version": "1.5.0",
          "state": {
            "_view_name": "HTMLView",
            "style": "IPY_MODEL_9d4f31c52ddb4f50bc0b20314cf9fae0",
            "_dom_classes": [],
            "description": "",
            "_model_name": "HTMLModel",
            "placeholder": "​",
            "_view_module": "@jupyter-widgets/controls",
            "_model_module_version": "1.5.0",
            "value": "100%",
            "_view_count": null,
            "_view_module_version": "1.5.0",
            "description_tooltip": null,
            "_model_module": "@jupyter-widgets/controls",
            "layout": "IPY_MODEL_2e514dda948743f49f26aff2f3b1be78"
          }
        },
        "89db4d8d12fc4ec983e15f177d657f2b": {
          "model_module": "@jupyter-widgets/controls",
          "model_name": "FloatProgressModel",
          "model_module_version": "1.5.0",
          "state": {
            "_view_name": "ProgressView",
            "style": "IPY_MODEL_11c858ddcb084cca911d985b0e309f02",
            "_dom_classes": [],
            "description": "",
            "_model_name": "FloatProgressModel",
            "bar_style": "success",
            "max": 3,
            "_view_module": "@jupyter-widgets/controls",
            "_model_module_version": "1.5.0",
            "value": 3,
            "_view_count": null,
            "_view_module_version": "1.5.0",
            "orientation": "horizontal",
            "min": 0,
            "description_tooltip": null,
            "_model_module": "@jupyter-widgets/controls",
            "layout": "IPY_MODEL_26b8727da3a340148f2f0eebb841d2ac"
          }
        },
        "420c33fae21c4b8692ef28ee66b57109": {
          "model_module": "@jupyter-widgets/controls",
          "model_name": "HTMLModel",
          "model_module_version": "1.5.0",
          "state": {
            "_view_name": "HTMLView",
            "style": "IPY_MODEL_4d3412784fdd4ed69f008c9a05e014de",
            "_dom_classes": [],
            "description": "",
            "_model_name": "HTMLModel",
            "placeholder": "​",
            "_view_module": "@jupyter-widgets/controls",
            "_model_module_version": "1.5.0",
            "value": " 3/3 [00:52&lt;00:00, 17.33s/it]",
            "_view_count": null,
            "_view_module_version": "1.5.0",
            "description_tooltip": null,
            "_model_module": "@jupyter-widgets/controls",
            "layout": "IPY_MODEL_70eb8502a52d48b18a646d83e936de5f"
          }
        },
        "9d4f31c52ddb4f50bc0b20314cf9fae0": {
          "model_module": "@jupyter-widgets/controls",
          "model_name": "DescriptionStyleModel",
          "model_module_version": "1.5.0",
          "state": {
            "_view_name": "StyleView",
            "_model_name": "DescriptionStyleModel",
            "description_width": "",
            "_view_module": "@jupyter-widgets/base",
            "_model_module_version": "1.5.0",
            "_view_count": null,
            "_view_module_version": "1.2.0",
            "_model_module": "@jupyter-widgets/controls"
          }
        },
        "2e514dda948743f49f26aff2f3b1be78": {
          "model_module": "@jupyter-widgets/base",
          "model_name": "LayoutModel",
          "model_module_version": "1.2.0",
          "state": {
            "_view_name": "LayoutView",
            "grid_template_rows": null,
            "right": null,
            "justify_content": null,
            "_view_module": "@jupyter-widgets/base",
            "overflow": null,
            "_model_module_version": "1.2.0",
            "_view_count": null,
            "flex_flow": null,
            "width": null,
            "min_width": null,
            "border": null,
            "align_items": null,
            "bottom": null,
            "_model_module": "@jupyter-widgets/base",
            "top": null,
            "grid_column": null,
            "overflow_y": null,
            "overflow_x": null,
            "grid_auto_flow": null,
            "grid_area": null,
            "grid_template_columns": null,
            "flex": null,
            "_model_name": "LayoutModel",
            "justify_items": null,
            "grid_row": null,
            "max_height": null,
            "align_content": null,
            "visibility": null,
            "align_self": null,
            "height": null,
            "min_height": null,
            "padding": null,
            "grid_auto_rows": null,
            "grid_gap": null,
            "max_width": null,
            "order": null,
            "_view_module_version": "1.2.0",
            "grid_template_areas": null,
            "object_position": null,
            "object_fit": null,
            "grid_auto_columns": null,
            "margin": null,
            "display": null,
            "left": null
          }
        },
        "11c858ddcb084cca911d985b0e309f02": {
          "model_module": "@jupyter-widgets/controls",
          "model_name": "ProgressStyleModel",
          "model_module_version": "1.5.0",
          "state": {
            "_view_name": "StyleView",
            "_model_name": "ProgressStyleModel",
            "description_width": "",
            "_view_module": "@jupyter-widgets/base",
            "_model_module_version": "1.5.0",
            "_view_count": null,
            "_view_module_version": "1.2.0",
            "bar_color": null,
            "_model_module": "@jupyter-widgets/controls"
          }
        },
        "26b8727da3a340148f2f0eebb841d2ac": {
          "model_module": "@jupyter-widgets/base",
          "model_name": "LayoutModel",
          "model_module_version": "1.2.0",
          "state": {
            "_view_name": "LayoutView",
            "grid_template_rows": null,
            "right": null,
            "justify_content": null,
            "_view_module": "@jupyter-widgets/base",
            "overflow": null,
            "_model_module_version": "1.2.0",
            "_view_count": null,
            "flex_flow": null,
            "width": null,
            "min_width": null,
            "border": null,
            "align_items": null,
            "bottom": null,
            "_model_module": "@jupyter-widgets/base",
            "top": null,
            "grid_column": null,
            "overflow_y": null,
            "overflow_x": null,
            "grid_auto_flow": null,
            "grid_area": null,
            "grid_template_columns": null,
            "flex": null,
            "_model_name": "LayoutModel",
            "justify_items": null,
            "grid_row": null,
            "max_height": null,
            "align_content": null,
            "visibility": null,
            "align_self": null,
            "height": null,
            "min_height": null,
            "padding": null,
            "grid_auto_rows": null,
            "grid_gap": null,
            "max_width": null,
            "order": null,
            "_view_module_version": "1.2.0",
            "grid_template_areas": null,
            "object_position": null,
            "object_fit": null,
            "grid_auto_columns": null,
            "margin": null,
            "display": null,
            "left": null
          }
        },
        "4d3412784fdd4ed69f008c9a05e014de": {
          "model_module": "@jupyter-widgets/controls",
          "model_name": "DescriptionStyleModel",
          "model_module_version": "1.5.0",
          "state": {
            "_view_name": "StyleView",
            "_model_name": "DescriptionStyleModel",
            "description_width": "",
            "_view_module": "@jupyter-widgets/base",
            "_model_module_version": "1.5.0",
            "_view_count": null,
            "_view_module_version": "1.2.0",
            "_model_module": "@jupyter-widgets/controls"
          }
        },
        "70eb8502a52d48b18a646d83e936de5f": {
          "model_module": "@jupyter-widgets/base",
          "model_name": "LayoutModel",
          "model_module_version": "1.2.0",
          "state": {
            "_view_name": "LayoutView",
            "grid_template_rows": null,
            "right": null,
            "justify_content": null,
            "_view_module": "@jupyter-widgets/base",
            "overflow": null,
            "_model_module_version": "1.2.0",
            "_view_count": null,
            "flex_flow": null,
            "width": null,
            "min_width": null,
            "border": null,
            "align_items": null,
            "bottom": null,
            "_model_module": "@jupyter-widgets/base",
            "top": null,
            "grid_column": null,
            "overflow_y": null,
            "overflow_x": null,
            "grid_auto_flow": null,
            "grid_area": null,
            "grid_template_columns": null,
            "flex": null,
            "_model_name": "LayoutModel",
            "justify_items": null,
            "grid_row": null,
            "max_height": null,
            "align_content": null,
            "visibility": null,
            "align_self": null,
            "height": null,
            "min_height": null,
            "padding": null,
            "grid_auto_rows": null,
            "grid_gap": null,
            "max_width": null,
            "order": null,
            "_view_module_version": "1.2.0",
            "grid_template_areas": null,
            "object_position": null,
            "object_fit": null,
            "grid_auto_columns": null,
            "margin": null,
            "display": null,
            "left": null
          }
        }
      }
    }
  },
  "cells": [
    {
      "cell_type": "code",
      "metadata": {
        "id": "DGKAWoryvTm6",
        "colab": {
          "base_uri": "https://localhost:8080/"
        },
        "outputId": "d06dd4ab-5ba4-4996-a4f5-04626d8d4cee"
      },
      "source": [
        "import torch\n",
        "from torch import nn\n",
        "import torch.nn.functional as F\n",
        "from torch import optim\n",
        "import torchvision\n",
        "import torchvision.datasets as datasets\n",
        "import torchvision.transforms as transforms\n",
        "from torch.utils.data import DataLoader\n",
        "from torch.utils.tensorboard import SummaryWriter\n",
        "from tqdm.auto import tqdm\n",
        "device = torch.device('cuda' if torch.cuda.is_available() else 'cpu')\n",
        "print(device)\n",
        "\n",
        "class Discriminator(nn.Module):\n",
        "  def __init__(self,in_features):\n",
        "    super(Discriminator,self).__init__()\n",
        "    self.in_features = in_features\n",
        "    self.disc = nn.Sequential(\n",
        "        \n",
        "         nn.Linear(self.in_features,128),\n",
        "         nn.LeakyReLU(0.1),\n",
        "         nn.Linear(128,1),\n",
        "         nn.Sigmoid(),\n",
        "        \n",
        "    )\n",
        "\n",
        "  def forward(self,x):\n",
        "\n",
        "    return self.disc(x)\n",
        "  \n",
        "class Generator(nn.Module):\n",
        "  def __init__(self,z_dim,in_dim):\n",
        "    super(Generator,self).__init__()\n",
        "    self.z_dim = z_dim\n",
        "    self.in_dim = in_dim\n",
        "    self.gen = nn.Sequential(\n",
        "        \n",
        "         nn.Linear(z_dim,256),\n",
        "         nn.LeakyReLU(0.1),\n",
        "         nn.Linear(256,in_dim),\n",
        "         nn.Tanh()\n",
        "        \n",
        "    )\n",
        "\n",
        "  def forward(self,x):\n",
        "    return self.gen(x)\n",
        "\n",
        "lr = 3e-4\n",
        "z_dim = 64\n",
        "image_dim = 28*28*1\n",
        "batch_size = 64\n",
        "num_epochs = 3\n",
        "\n",
        "disc = Discriminator(in_features = image_dim).to(device)\n",
        "gen = Generator(z_dim,image_dim).to(device)\n",
        "fixed_noise = torch.randn((batch_size,z_dim)).to(device)\n",
        "transforms = transforms.Compose(\n",
        "    [\n",
        "     transforms.ToTensor(),transforms.Normalize((0.5,),(0.5,))\n",
        "    ]\n",
        ")\n",
        "dataset = datasets.MNIST(root='./data',download=True,transform=transforms)\n",
        "loader = DataLoader(dataset = dataset,batch_size = batch_size,shuffle=True)\n",
        "opt_disc = optim.Adam(disc.parameters(),lr=lr)\n",
        "opt_gen = optim.Adam(gen.parameters(), lr=lr)\n",
        "criterion = nn.BCELoss()\n",
        "writer_fake = SummaryWriter(f\"runs/fake\")\n",
        "writer_real = SummaryWriter(f\"runs/real\")\n",
        "step = 0"
      ],
      "execution_count": null,
      "outputs": [
        {
          "output_type": "stream",
          "name": "stdout",
          "text": [
            "cuda\n"
          ]
        }
      ]
    },
    {
      "cell_type": "code",
      "metadata": {
        "colab": {
          "base_uri": "https://localhost:8080/",
          "height": 101,
          "referenced_widgets": [
            "59b3583bcaff4417b5bb2b519b21f581",
            "64bb222eae754d6cac27297b5316e950",
            "a257312970584e619fc1d03aa06289f2",
            "89db4d8d12fc4ec983e15f177d657f2b",
            "420c33fae21c4b8692ef28ee66b57109",
            "9d4f31c52ddb4f50bc0b20314cf9fae0",
            "2e514dda948743f49f26aff2f3b1be78",
            "11c858ddcb084cca911d985b0e309f02",
            "26b8727da3a340148f2f0eebb841d2ac",
            "4d3412784fdd4ed69f008c9a05e014de",
            "70eb8502a52d48b18a646d83e936de5f"
          ]
        },
        "id": "wDFADss-UHV2",
        "outputId": "8c2ae3b3-f74c-423d-8a17-51fb7d57545e"
      },
      "source": [
        "for epoch in tqdm(range(num_epochs)):\n",
        "  for batch_idx,(real,_) in enumerate(loader):\n",
        "      real = real.view(-1,784).to(device)\n",
        "      batch_size = real.shape[0]\n",
        "\n",
        "      ## Loss of Discriminator max log(D(real))+ (1-D(G(noise)))\n",
        "      noise = torch.randn((batch_size,z_dim )).to(device)\n",
        "      fake = gen(noise)\n",
        "      disc_real = disc(real).view(-1)\n",
        "      lossD_real = criterion(disc_real,torch.ones_like(disc_real))\n",
        "      disc_fake = disc(fake).view(-1)\n",
        "      lossD_fake = criterion(disc_fake,torch.zeros_like(disc_fake))\n",
        "      lossD = (lossD_real + lossD_fake) /2\n",
        "      disc.zero_grad()\n",
        "      lossD.backward(retain_graph=True)\n",
        "      opt_disc.step()\n",
        "\n",
        "      ## Loss of Generator min(log(1-D(G(z))))\n",
        "      output = disc(fake).view(-1)\n",
        "      lossG = criterion(output, torch.ones_like(output))\n",
        "      gen.zero_grad()\n",
        "      lossG.backward()\n",
        "      opt_gen.step()\n",
        "      if batch_idx == 0:\n",
        "          print(\n",
        "              f\"Epoch [{epoch}/{num_epochs}] Batch {batch_idx}/{len(loader)} \\\n",
        "                    Loss D: {lossD:.4f}, loss G: {lossG:.4f}\"\n",
        "          )\n",
        "\n",
        "          with torch.no_grad():\n",
        "              fake = gen(fixed_noise).reshape(-1, 1, 28, 28)\n",
        "              data = real.reshape(-1, 1, 28, 28)\n",
        "              img_grid_fake = torchvision.utils.make_grid(fake, normalize=True)\n",
        "              img_grid_real = torchvision.utils.make_grid(data, normalize=True)\n",
        "\n",
        "              writer_fake.add_image(\n",
        "                  \"Mnist Fake Images\", img_grid_fake, global_step=step\n",
        "              )\n",
        "              writer_real.add_image(\n",
        "                  \"Mnist Real Images\", img_grid_real, global_step=step\n",
        "              )\n",
        "              step += 1"
      ],
      "execution_count": null,
      "outputs": [
        {
          "output_type": "display_data",
          "data": {
            "application/vnd.jupyter.widget-view+json": {
              "model_id": "59b3583bcaff4417b5bb2b519b21f581",
              "version_minor": 0,
              "version_major": 2
            },
            "text/plain": [
              "  0%|          | 0/3 [00:00<?, ?it/s]"
            ]
          },
          "metadata": {}
        },
        {
          "output_type": "stream",
          "name": "stdout",
          "text": [
            "Epoch [0/3] Batch 0/938                     Loss D: 0.7468, loss G: 0.6545\n",
            "Epoch [1/3] Batch 0/938                     Loss D: 0.4492, loss G: 1.1230\n",
            "Epoch [2/3] Batch 0/938                     Loss D: 0.2853, loss G: 1.6457\n"
          ]
        }
      ]
    },
    {
      "cell_type": "code",
      "metadata": {
        "id": "tO7wiQ2h4Ugp"
      },
      "source": [
        "# writer_fake.close()\n",
        "# writer_real.close()"
      ],
      "execution_count": null,
      "outputs": []
    },
    {
      "cell_type": "code",
      "metadata": {
        "colab": {
          "base_uri": "https://localhost:8080/"
        },
        "id": "B3i-9wLb4MD6",
        "outputId": "e99e6456-da35-4901-855a-925c508499cc"
      },
      "source": [
        "!pip install torch torchvision"
      ],
      "execution_count": null,
      "outputs": [
        {
          "output_type": "stream",
          "name": "stdout",
          "text": [
            "Requirement already satisfied: torch in /usr/local/lib/python3.7/dist-packages (1.9.0+cu102)\n",
            "Requirement already satisfied: torchvision in /usr/local/lib/python3.7/dist-packages (0.10.0+cu102)\n",
            "Requirement already satisfied: typing-extensions in /usr/local/lib/python3.7/dist-packages (from torch) (3.7.4.3)\n",
            "Requirement already satisfied: pillow>=5.3.0 in /usr/local/lib/python3.7/dist-packages (from torchvision) (7.1.2)\n",
            "Requirement already satisfied: numpy in /usr/local/lib/python3.7/dist-packages (from torchvision) (1.19.5)\n"
          ]
        }
      ]
    },
    {
      "cell_type": "code",
      "metadata": {
        "id": "cpIYMz7qeqPG",
        "colab": {
          "base_uri": "https://localhost:8080/"
        },
        "outputId": "4b9ffc7b-0972-444d-8526-60772a80cf0d"
      },
      "source": [
        " !tensorboard --logdir='/content/runs'"
      ],
      "execution_count": null,
      "outputs": [
        {
          "output_type": "stream",
          "name": "stdout",
          "text": [
            "2021-10-01 08:16:44.804562: I tensorflow/stream_executor/cuda/cuda_gpu_executor.cc:937] successful NUMA node read from SysFS had negative value (-1), but there must be at least one NUMA node, so returning NUMA node zero\n",
            "2021-10-01 08:16:44.813268: I tensorflow/stream_executor/cuda/cuda_gpu_executor.cc:937] successful NUMA node read from SysFS had negative value (-1), but there must be at least one NUMA node, so returning NUMA node zero\n",
            "2021-10-01 08:16:44.813957: I tensorflow/stream_executor/cuda/cuda_gpu_executor.cc:937] successful NUMA node read from SysFS had negative value (-1), but there must be at least one NUMA node, so returning NUMA node zero\n",
            "\n",
            "NOTE: Using experimental fast data loading logic. To disable, pass\n",
            "    \"--load_fast=false\" and report issues on GitHub. More details:\n",
            "    https://github.com/tensorflow/tensorboard/issues/4784\n",
            "\n",
            "Serving TensorBoard on localhost; to expose to the network, use a proxy or pass --bind_all\n",
            "TensorBoard 2.6.0 at http://localhost:6006/ (Press CTRL+C to quit)\n"
          ]
        }
      ]
    },
    {
      "cell_type": "code",
      "metadata": {
        "colab": {
          "base_uri": "https://localhost:8080/"
        },
        "id": "-Q-uRiw-32lH",
        "outputId": "f5eb052f-cc46-4ca8-b91a-419bb18f08a1"
      },
      "source": [
        "!tensorboard dev upload --logdir /content/runs/ \\\n",
        "--name \"My latest experiment\"\\\n",
        "# --description \"Simple comparison of several hyperparameters\""
      ],
      "execution_count": null,
      "outputs": [
        {
          "output_type": "stream",
          "name": "stdout",
          "text": [
            "2021-10-01 08:17:00.688576: I tensorflow/stream_executor/cuda/cuda_gpu_executor.cc:937] successful NUMA node read from SysFS had negative value (-1), but there must be at least one NUMA node, so returning NUMA node zero\n",
            "2021-10-01 08:17:00.697658: I tensorflow/stream_executor/cuda/cuda_gpu_executor.cc:937] successful NUMA node read from SysFS had negative value (-1), but there must be at least one NUMA node, so returning NUMA node zero\n",
            "2021-10-01 08:17:00.698509: I tensorflow/stream_executor/cuda/cuda_gpu_executor.cc:937] successful NUMA node read from SysFS had negative value (-1), but there must be at least one NUMA node, so returning NUMA node zero\n",
            "Upload started and will continue reading any new data as it's added to the logdir.\n",
            "\n",
            "To stop uploading, press Ctrl-C.\n",
            "\n",
            "New experiment created. View your TensorBoard at: https://tensorboard.dev/experiment/HM8KLLR5QHOU6WYGyzQWxg/\n",
            "\n",
            "\u001b[1m[2021-10-01T08:17:00]\u001b[0m Started scanning logdir.\n",
            "\n",
            "\n",
            "Interrupted.\n",
            "Traceback (most recent call last):\n",
            "  File \"/usr/local/bin/tensorboard\", line 8, in <module>\n",
            "    sys.exit(run_main())\n",
            "  File \"/usr/local/lib/python3.7/dist-packages/tensorboard/main.py\", line 46, in run_main\n",
            "    app.run(tensorboard.main, flags_parser=tensorboard.configure)\n",
            "  File \"/usr/local/lib/python3.7/dist-packages/absl/app.py\", line 303, in run\n",
            "    _run_main(main, args)\n",
            "  File \"/usr/local/lib/python3.7/dist-packages/absl/app.py\", line 251, in _run_main\n",
            "    sys.exit(main(argv))\n",
            "  File \"/usr/local/lib/python3.7/dist-packages/tensorboard/program.py\", line 276, in main\n",
            "    return runner(self.flags) or 0\n",
            "  File \"/usr/local/lib/python3.7/dist-packages/tensorboard/uploader/uploader_subcommand.py\", line 657, in run\n",
            "    return _run(flags, self._experiment_url_callback)\n",
            "  File \"/usr/local/lib/python3.7/dist-packages/tensorboard/uploader/uploader_subcommand.py\", line 125, in _run\n",
            "    intent.execute(server_info, channel)\n",
            "KeyboardInterrupt\n"
          ]
        }
      ]
    },
    {
      "cell_type": "code",
      "metadata": {
        "id": "YKEWmilv4xvf"
      },
      "source": [
        ""
      ],
      "execution_count": null,
      "outputs": []
    }
  ]
}